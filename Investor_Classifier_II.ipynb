{
 "cells": [
  {
   "cell_type": "code",
   "execution_count": 1,
   "metadata": {},
   "outputs": [],
   "source": [
    "import pandas as pd\n",
    "import numpy as np\n",
    "from matplotlib import pyplot as plt\n",
    "import seaborn as sns\n",
    "import sklearn"
   ]
  },
  {
   "cell_type": "code",
   "execution_count": 2,
   "metadata": {},
   "outputs": [
    {
     "data": {
      "text/html": [
       "<div>\n",
       "<style scoped>\n",
       "    .dataframe tbody tr th:only-of-type {\n",
       "        vertical-align: middle;\n",
       "    }\n",
       "\n",
       "    .dataframe tbody tr th {\n",
       "        vertical-align: top;\n",
       "    }\n",
       "\n",
       "    .dataframe thead th {\n",
       "        text-align: right;\n",
       "    }\n",
       "</style>\n",
       "<table border=\"1\" class=\"dataframe\">\n",
       "  <thead>\n",
       "    <tr style=\"text-align: right;\">\n",
       "      <th></th>\n",
       "      <th>investor</th>\n",
       "      <th>commit</th>\n",
       "      <th>deal_size</th>\n",
       "      <th>invite</th>\n",
       "      <th>rating</th>\n",
       "      <th>int_rate</th>\n",
       "      <th>covenants</th>\n",
       "      <th>total_fees</th>\n",
       "      <th>fee_share</th>\n",
       "      <th>prior_tier</th>\n",
       "      <th>invite_tier</th>\n",
       "      <th>tier_change</th>\n",
       "      <th>fee_percent</th>\n",
       "      <th>invite_percent</th>\n",
       "    </tr>\n",
       "  </thead>\n",
       "  <tbody>\n",
       "    <tr>\n",
       "      <td>0</td>\n",
       "      <td>Goldman Sachs</td>\n",
       "      <td>Commit</td>\n",
       "      <td>300</td>\n",
       "      <td>40</td>\n",
       "      <td>2</td>\n",
       "      <td>Market</td>\n",
       "      <td>2</td>\n",
       "      <td>30</td>\n",
       "      <td>0.0</td>\n",
       "      <td>Participant</td>\n",
       "      <td>Bookrunner</td>\n",
       "      <td>Promoted</td>\n",
       "      <td>0.000000</td>\n",
       "      <td>0.133333</td>\n",
       "    </tr>\n",
       "    <tr>\n",
       "      <td>1</td>\n",
       "      <td>Deutsche Bank</td>\n",
       "      <td>Decline</td>\n",
       "      <td>1200</td>\n",
       "      <td>140</td>\n",
       "      <td>2</td>\n",
       "      <td>Market</td>\n",
       "      <td>2</td>\n",
       "      <td>115</td>\n",
       "      <td>20.1</td>\n",
       "      <td>Bookrunner</td>\n",
       "      <td>Participant</td>\n",
       "      <td>Demoted</td>\n",
       "      <td>0.174783</td>\n",
       "      <td>0.116667</td>\n",
       "    </tr>\n",
       "    <tr>\n",
       "      <td>2</td>\n",
       "      <td>Bank of America</td>\n",
       "      <td>Commit</td>\n",
       "      <td>900</td>\n",
       "      <td>130</td>\n",
       "      <td>3</td>\n",
       "      <td>Market</td>\n",
       "      <td>2</td>\n",
       "      <td>98</td>\n",
       "      <td>24.4</td>\n",
       "      <td>Bookrunner</td>\n",
       "      <td>Bookrunner</td>\n",
       "      <td>None</td>\n",
       "      <td>0.248980</td>\n",
       "      <td>0.144444</td>\n",
       "    </tr>\n",
       "  </tbody>\n",
       "</table>\n",
       "</div>"
      ],
      "text/plain": [
       "          investor   commit  deal_size  invite  rating int_rate  covenants  \\\n",
       "0    Goldman Sachs   Commit        300      40       2   Market          2   \n",
       "1    Deutsche Bank  Decline       1200     140       2   Market          2   \n",
       "2  Bank of America   Commit        900     130       3   Market          2   \n",
       "\n",
       "   total_fees  fee_share   prior_tier  invite_tier tier_change  fee_percent  \\\n",
       "0          30        0.0  Participant   Bookrunner    Promoted     0.000000   \n",
       "1         115       20.1   Bookrunner  Participant     Demoted     0.174783   \n",
       "2          98       24.4   Bookrunner   Bookrunner        None     0.248980   \n",
       "\n",
       "   invite_percent  \n",
       "0        0.133333  \n",
       "1        0.116667  \n",
       "2        0.144444  "
      ]
     },
     "execution_count": 2,
     "metadata": {},
     "output_type": "execute_result"
    }
   ],
   "source": [
    "investor_data = pd.read_csv('investor_data_2.csv')\n",
    "investor_data.head(3)"
   ]
  },
  {
   "cell_type": "code",
   "execution_count": 3,
   "metadata": {},
   "outputs": [
    {
     "data": {
      "text/plain": [
       "(7233, 11)"
      ]
     },
     "execution_count": 3,
     "metadata": {},
     "output_type": "execute_result"
    }
   ],
   "source": [
    "investor_data = investor_data.drop(['invite_tier', 'fee_share', 'invite'], axis=1)\n",
    "investor_data.shape"
   ]
  },
  {
   "cell_type": "code",
   "execution_count": 4,
   "metadata": {},
   "outputs": [
    {
     "data": {
      "text/plain": [
       "(7233, 21)"
      ]
     },
     "execution_count": 4,
     "metadata": {},
     "output_type": "execute_result"
    }
   ],
   "source": [
    "investor_data = pd.get_dummies(investor_data)\n",
    "investor_data.shape"
   ]
  },
  {
   "cell_type": "code",
   "execution_count": 5,
   "metadata": {},
   "outputs": [
    {
     "data": {
      "text/html": [
       "<div>\n",
       "<style scoped>\n",
       "    .dataframe tbody tr th:only-of-type {\n",
       "        vertical-align: middle;\n",
       "    }\n",
       "\n",
       "    .dataframe tbody tr th {\n",
       "        vertical-align: top;\n",
       "    }\n",
       "\n",
       "    .dataframe thead th {\n",
       "        text-align: right;\n",
       "    }\n",
       "</style>\n",
       "<table border=\"1\" class=\"dataframe\">\n",
       "  <thead>\n",
       "    <tr style=\"text-align: right;\">\n",
       "      <th></th>\n",
       "      <th>deal_size</th>\n",
       "      <th>rating</th>\n",
       "      <th>covenants</th>\n",
       "      <th>total_fees</th>\n",
       "      <th>fee_percent</th>\n",
       "      <th>invite_percent</th>\n",
       "      <th>investor_Bank of America</th>\n",
       "      <th>investor_Deutsche Bank</th>\n",
       "      <th>investor_Goldman Sachs</th>\n",
       "      <th>investor_MUFG Union</th>\n",
       "      <th>...</th>\n",
       "      <th>commit_Commit</th>\n",
       "      <th>commit_Decline</th>\n",
       "      <th>int_rate_Above</th>\n",
       "      <th>int_rate_Below</th>\n",
       "      <th>int_rate_Market</th>\n",
       "      <th>prior_tier_Bookrunner</th>\n",
       "      <th>prior_tier_Participant</th>\n",
       "      <th>tier_change_Demoted</th>\n",
       "      <th>tier_change_None</th>\n",
       "      <th>tier_change_Promoted</th>\n",
       "    </tr>\n",
       "  </thead>\n",
       "  <tbody>\n",
       "    <tr>\n",
       "      <td>0</td>\n",
       "      <td>300</td>\n",
       "      <td>2</td>\n",
       "      <td>2</td>\n",
       "      <td>30</td>\n",
       "      <td>0.000000</td>\n",
       "      <td>0.133333</td>\n",
       "      <td>0</td>\n",
       "      <td>0</td>\n",
       "      <td>1</td>\n",
       "      <td>0</td>\n",
       "      <td>...</td>\n",
       "      <td>1</td>\n",
       "      <td>0</td>\n",
       "      <td>0</td>\n",
       "      <td>0</td>\n",
       "      <td>1</td>\n",
       "      <td>0</td>\n",
       "      <td>1</td>\n",
       "      <td>0</td>\n",
       "      <td>0</td>\n",
       "      <td>1</td>\n",
       "    </tr>\n",
       "    <tr>\n",
       "      <td>1</td>\n",
       "      <td>1200</td>\n",
       "      <td>2</td>\n",
       "      <td>2</td>\n",
       "      <td>115</td>\n",
       "      <td>0.174783</td>\n",
       "      <td>0.116667</td>\n",
       "      <td>0</td>\n",
       "      <td>1</td>\n",
       "      <td>0</td>\n",
       "      <td>0</td>\n",
       "      <td>...</td>\n",
       "      <td>0</td>\n",
       "      <td>1</td>\n",
       "      <td>0</td>\n",
       "      <td>0</td>\n",
       "      <td>1</td>\n",
       "      <td>1</td>\n",
       "      <td>0</td>\n",
       "      <td>1</td>\n",
       "      <td>0</td>\n",
       "      <td>0</td>\n",
       "    </tr>\n",
       "    <tr>\n",
       "      <td>2</td>\n",
       "      <td>900</td>\n",
       "      <td>3</td>\n",
       "      <td>2</td>\n",
       "      <td>98</td>\n",
       "      <td>0.248980</td>\n",
       "      <td>0.144444</td>\n",
       "      <td>1</td>\n",
       "      <td>0</td>\n",
       "      <td>0</td>\n",
       "      <td>0</td>\n",
       "      <td>...</td>\n",
       "      <td>1</td>\n",
       "      <td>0</td>\n",
       "      <td>0</td>\n",
       "      <td>0</td>\n",
       "      <td>1</td>\n",
       "      <td>1</td>\n",
       "      <td>0</td>\n",
       "      <td>0</td>\n",
       "      <td>1</td>\n",
       "      <td>0</td>\n",
       "    </tr>\n",
       "    <tr>\n",
       "      <td>3</td>\n",
       "      <td>1200</td>\n",
       "      <td>2</td>\n",
       "      <td>2</td>\n",
       "      <td>165</td>\n",
       "      <td>0.343030</td>\n",
       "      <td>0.175000</td>\n",
       "      <td>0</td>\n",
       "      <td>0</td>\n",
       "      <td>0</td>\n",
       "      <td>0</td>\n",
       "      <td>...</td>\n",
       "      <td>1</td>\n",
       "      <td>0</td>\n",
       "      <td>0</td>\n",
       "      <td>0</td>\n",
       "      <td>1</td>\n",
       "      <td>1</td>\n",
       "      <td>0</td>\n",
       "      <td>0</td>\n",
       "      <td>1</td>\n",
       "      <td>0</td>\n",
       "    </tr>\n",
       "    <tr>\n",
       "      <td>4</td>\n",
       "      <td>900</td>\n",
       "      <td>3</td>\n",
       "      <td>3</td>\n",
       "      <td>161</td>\n",
       "      <td>0.239130</td>\n",
       "      <td>0.100000</td>\n",
       "      <td>0</td>\n",
       "      <td>0</td>\n",
       "      <td>0</td>\n",
       "      <td>0</td>\n",
       "      <td>...</td>\n",
       "      <td>1</td>\n",
       "      <td>0</td>\n",
       "      <td>0</td>\n",
       "      <td>0</td>\n",
       "      <td>1</td>\n",
       "      <td>1</td>\n",
       "      <td>0</td>\n",
       "      <td>1</td>\n",
       "      <td>0</td>\n",
       "      <td>0</td>\n",
       "    </tr>\n",
       "  </tbody>\n",
       "</table>\n",
       "<p>5 rows × 21 columns</p>\n",
       "</div>"
      ],
      "text/plain": [
       "   deal_size  rating  covenants  total_fees  fee_percent  invite_percent  \\\n",
       "0        300       2          2          30     0.000000        0.133333   \n",
       "1       1200       2          2         115     0.174783        0.116667   \n",
       "2        900       3          2          98     0.248980        0.144444   \n",
       "3       1200       2          2         165     0.343030        0.175000   \n",
       "4        900       3          3         161     0.239130        0.100000   \n",
       "\n",
       "   investor_Bank of America  investor_Deutsche Bank  investor_Goldman Sachs  \\\n",
       "0                         0                       0                       1   \n",
       "1                         0                       1                       0   \n",
       "2                         1                       0                       0   \n",
       "3                         0                       0                       0   \n",
       "4                         0                       0                       0   \n",
       "\n",
       "   investor_MUFG Union  ...  commit_Commit  commit_Decline  int_rate_Above  \\\n",
       "0                    0  ...              1               0               0   \n",
       "1                    0  ...              0               1               0   \n",
       "2                    0  ...              1               0               0   \n",
       "3                    0  ...              1               0               0   \n",
       "4                    0  ...              1               0               0   \n",
       "\n",
       "   int_rate_Below  int_rate_Market  prior_tier_Bookrunner  \\\n",
       "0               0                1                      0   \n",
       "1               0                1                      1   \n",
       "2               0                1                      1   \n",
       "3               0                1                      1   \n",
       "4               0                1                      1   \n",
       "\n",
       "   prior_tier_Participant  tier_change_Demoted  tier_change_None  \\\n",
       "0                       1                    0                 0   \n",
       "1                       0                    1                 0   \n",
       "2                       0                    0                 1   \n",
       "3                       0                    0                 1   \n",
       "4                       0                    1                 0   \n",
       "\n",
       "   tier_change_Promoted  \n",
       "0                     1  \n",
       "1                     0  \n",
       "2                     0  \n",
       "3                     0  \n",
       "4                     0  \n",
       "\n",
       "[5 rows x 21 columns]"
      ]
     },
     "execution_count": 5,
     "metadata": {},
     "output_type": "execute_result"
    }
   ],
   "source": [
    "investor_data.head()"
   ]
  },
  {
   "cell_type": "code",
   "execution_count": 6,
   "metadata": {},
   "outputs": [
    {
     "data": {
      "text/plain": [
       "(7233, 20)"
      ]
     },
     "execution_count": 6,
     "metadata": {},
     "output_type": "execute_result"
    }
   ],
   "source": [
    "investor_data = investor_data.drop('commit_Commit', axis=1)\n",
    "investor_data.shape"
   ]
  },
  {
   "cell_type": "code",
   "execution_count": 8,
   "metadata": {},
   "outputs": [],
   "source": [
    "target = investor_data.commit_Decline\n",
    "inputs = investor_data.drop('commit_Decline', axis=1)"
   ]
  },
  {
   "cell_type": "code",
   "execution_count": 9,
   "metadata": {},
   "outputs": [
    {
     "data": {
      "text/plain": [
       "<function matplotlib.pyplot.show(*args, **kw)>"
      ]
     },
     "execution_count": 9,
     "metadata": {},
     "output_type": "execute_result"
    },
    {
     "data": {
      "image/png": "[encoded data removed]",
      "text/plain": [
       "<Figure size 432x288 with 1 Axes>"
      ]
     },
     "metadata": {
      "needs_background": "light"
     },
     "output_type": "display_data"
    }
   ],
   "source": [
    "sns.countplot(y = 'commit_Decline', data=investor_data)\n",
    "plt.show"
   ]
  },
  {
   "cell_type": "code",
   "execution_count": 10,
   "metadata": {},
   "outputs": [],
   "source": [
    "from sklearn.model_selection import train_test_split\n",
    "split_list = train_test_split(inputs, target, test_size=0.2, random_state = 1, stratify=investor_data.commit_Decline)"
   ]
  },
  {
   "cell_type": "code",
   "execution_count": 12,
   "metadata": {},
   "outputs": [
    {
     "name": "stdout",
     "output_type": "stream",
     "text": [
      "(5786, 19)\n",
      "(1447, 19)\n",
      "(5786,)\n",
      "(1447,)\n"
     ]
    }
   ],
   "source": [
    "input_train, input_test, target_train, target_test = split_list\n",
    "for item in [input_train, input_test, target_train, target_test]:\n",
    "    print (item.shape)"
   ]
  },
  {
   "cell_type": "code",
   "execution_count": 13,
   "metadata": {},
   "outputs": [],
   "source": [
    "from sklearn.pipeline import make_pipeline\n",
    "from sklearn.preprocessing import StandardScaler\n",
    "from sklearn.linear_model import LogisticRegression\n",
    "from sklearn.ensemble import RandomForestClassifier\n",
    "from sklearn.ensemble import GradientBoostingClassifier"
   ]
  },
  {
   "cell_type": "code",
   "execution_count": 19,
   "metadata": {},
   "outputs": [],
   "source": [
    "pipelines = {\n",
    "    'l1' : make_pipeline(StandardScaler(), LogisticRegression(penalty='l1', random_state=1, solver='liblinear')),\n",
    "    'l2' : make_pipeline(StandardScaler(), LogisticRegression(penalty='l2', random_state=1)),\n",
    "    'rf' : make_pipeline(StandardScaler(), RandomForestClassifier(random_state=1)),\n",
    "    'gb' : make_pipeline(StandardScaler(), GradientBoostingClassifier(random_state=1))\n",
    "}"
   ]
  },
  {
   "cell_type": "code",
   "execution_count": 20,
   "metadata": {},
   "outputs": [
    {
     "name": "stdout",
     "output_type": "stream",
     "text": [
      "l1 <class 'sklearn.pipeline.Pipeline'>\n",
      "l2 <class 'sklearn.pipeline.Pipeline'>\n",
      "rf <class 'sklearn.pipeline.Pipeline'>\n",
      "gb <class 'sklearn.pipeline.Pipeline'>\n"
     ]
    }
   ],
   "source": [
    "for key, value in pipelines.items():\n",
    "    print(key, type(value))"
   ]
  },
  {
   "cell_type": "code",
   "execution_count": 23,
   "metadata": {},
   "outputs": [],
   "source": [
    "l1_hyperparameters = {\n",
    "    \"logisticregression__C\" : [0.1, 1, 10],\n",
    "}\n",
    "l2_hyperparameters = {\n",
    "    \"logisticregression__C\" : [0.1, 1, 10],\n",
    "}\n",
    "rf_hyperparameters = {\n",
    "    'randomforestclassifier__n_estimators' : [100, 200],\n",
    "    'randomforestclassifier__max_features' : ['auto', 0.3, 0.6]\n",
    "}\n",
    "gb_hyperparameters = {\n",
    "    'gradientboostingclassifier__n_estimators': [100, 200],\n",
    "    'gradientboostingclassifier__learning_rate':[0.05, 0.1, 0.2],\n",
    "    'gradientboostingclassifier__max_depth' : [1, 3, 5]\n",
    "}\n",
    "\n",
    "\n",
    "\n",
    "hyperparameters = {\n",
    "    'l1' : l1_hyperparameters,\n",
    "    'l2' : l2_hyperparameters,\n",
    "    'rf' : rf_hyperparameters,\n",
    "    'gb' : gb_hyperparameters\n",
    "}"
   ]
  },
  {
   "cell_type": "code",
   "execution_count": 24,
   "metadata": {},
   "outputs": [
    {
     "name": "stdout",
     "output_type": "stream",
     "text": [
      "l1 was found, and it is a grid.\n",
      "l2 was found, and it is a grid.\n",
      "rf was found, and it is a grid.\n",
      "gb was found, and it is a grid.\n"
     ]
    }
   ],
   "source": [
    "for key in ['l1', 'l2', 'rf', 'gb']:\n",
    "    if key in hyperparameters:\n",
    "        if type(hyperparameters[key]) is dict:\n",
    "            print(key, 'was found, and it is a grid.')\n",
    "        else:\n",
    "            print(key, 'was found, but it is not a grid.')\n",
    "    else:\n",
    "        print(key, 'was not found.')\n",
    "            "
   ]
  },
  {
   "cell_type": "code",
   "execution_count": 25,
   "metadata": {},
   "outputs": [],
   "source": [
    "from sklearn.model_selection import GridSearchCV"
   ]
  },
  {
   "cell_type": "code",
   "execution_count": 26,
   "metadata": {},
   "outputs": [],
   "source": [
    "models = {}\n",
    "for key in pipelines.keys():\n",
    "    models[key] = GridSearchCV(pipelines[key], hyperparameters[key], cv=5)\n",
    "    "
   ]
  },
  {
   "cell_type": "code",
   "execution_count": 27,
   "metadata": {},
   "outputs": [
    {
     "name": "stdout",
     "output_type": "stream",
     "text": [
      "l1 is trained and tuned\n"
     ]
    },
    {
     "name": "stderr",
     "output_type": "stream",
     "text": [
      "/Users/connorkillion/opt/anaconda3/lib/python3.7/site-packages/sklearn/linear_model/logistic.py:432: FutureWarning: Default solver will be changed to 'lbfgs' in 0.22. Specify a solver to silence this warning.\n",
      "  FutureWarning)\n",
      "/Users/connorkillion/opt/anaconda3/lib/python3.7/site-packages/sklearn/linear_model/logistic.py:432: FutureWarning: Default solver will be changed to 'lbfgs' in 0.22. Specify a solver to silence this warning.\n",
      "  FutureWarning)\n",
      "/Users/connorkillion/opt/anaconda3/lib/python3.7/site-packages/sklearn/linear_model/logistic.py:432: FutureWarning: Default solver will be changed to 'lbfgs' in 0.22. Specify a solver to silence this warning.\n",
      "  FutureWarning)\n",
      "/Users/connorkillion/opt/anaconda3/lib/python3.7/site-packages/sklearn/linear_model/logistic.py:432: FutureWarning: Default solver will be changed to 'lbfgs' in 0.22. Specify a solver to silence this warning.\n",
      "  FutureWarning)\n",
      "/Users/connorkillion/opt/anaconda3/lib/python3.7/site-packages/sklearn/linear_model/logistic.py:432: FutureWarning: Default solver will be changed to 'lbfgs' in 0.22. Specify a solver to silence this warning.\n",
      "  FutureWarning)\n",
      "/Users/connorkillion/opt/anaconda3/lib/python3.7/site-packages/sklearn/linear_model/logistic.py:432: FutureWarning: Default solver will be changed to 'lbfgs' in 0.22. Specify a solver to silence this warning.\n",
      "  FutureWarning)\n",
      "/Users/connorkillion/opt/anaconda3/lib/python3.7/site-packages/sklearn/linear_model/logistic.py:432: FutureWarning: Default solver will be changed to 'lbfgs' in 0.22. Specify a solver to silence this warning.\n",
      "  FutureWarning)\n",
      "/Users/connorkillion/opt/anaconda3/lib/python3.7/site-packages/sklearn/linear_model/logistic.py:432: FutureWarning: Default solver will be changed to 'lbfgs' in 0.22. Specify a solver to silence this warning.\n",
      "  FutureWarning)\n",
      "/Users/connorkillion/opt/anaconda3/lib/python3.7/site-packages/sklearn/linear_model/logistic.py:432: FutureWarning: Default solver will be changed to 'lbfgs' in 0.22. Specify a solver to silence this warning.\n",
      "  FutureWarning)\n",
      "/Users/connorkillion/opt/anaconda3/lib/python3.7/site-packages/sklearn/linear_model/logistic.py:432: FutureWarning: Default solver will be changed to 'lbfgs' in 0.22. Specify a solver to silence this warning.\n",
      "  FutureWarning)\n",
      "/Users/connorkillion/opt/anaconda3/lib/python3.7/site-packages/sklearn/linear_model/logistic.py:432: FutureWarning: Default solver will be changed to 'lbfgs' in 0.22. Specify a solver to silence this warning.\n",
      "  FutureWarning)\n",
      "/Users/connorkillion/opt/anaconda3/lib/python3.7/site-packages/sklearn/linear_model/logistic.py:432: FutureWarning: Default solver will be changed to 'lbfgs' in 0.22. Specify a solver to silence this warning.\n",
      "  FutureWarning)\n",
      "/Users/connorkillion/opt/anaconda3/lib/python3.7/site-packages/sklearn/linear_model/logistic.py:432: FutureWarning: Default solver will be changed to 'lbfgs' in 0.22. Specify a solver to silence this warning.\n",
      "  FutureWarning)\n",
      "/Users/connorkillion/opt/anaconda3/lib/python3.7/site-packages/sklearn/linear_model/logistic.py:432: FutureWarning: Default solver will be changed to 'lbfgs' in 0.22. Specify a solver to silence this warning.\n",
      "  FutureWarning)\n",
      "/Users/connorkillion/opt/anaconda3/lib/python3.7/site-packages/sklearn/linear_model/logistic.py:432: FutureWarning: Default solver will be changed to 'lbfgs' in 0.22. Specify a solver to silence this warning.\n",
      "  FutureWarning)\n",
      "/Users/connorkillion/opt/anaconda3/lib/python3.7/site-packages/sklearn/linear_model/logistic.py:432: FutureWarning: Default solver will be changed to 'lbfgs' in 0.22. Specify a solver to silence this warning.\n",
      "  FutureWarning)\n"
     ]
    },
    {
     "name": "stdout",
     "output_type": "stream",
     "text": [
      "l2 is trained and tuned\n",
      "rf is trained and tuned\n",
      "gb is trained and tuned\n"
     ]
    }
   ],
   "source": [
    "for key in models:\n",
    "    models[key].fit(input_train, target_train)\n",
    "    print(key, 'is trained and tuned')"
   ]
  },
  {
   "cell_type": "code",
   "execution_count": 28,
   "metadata": {},
   "outputs": [
    {
     "name": "stdout",
     "output_type": "stream",
     "text": [
      "[[1124   22]\n",
      " [  23  278]]\n"
     ]
    }
   ],
   "source": [
    "from sklearn.metrics import confusion_matrix\n",
    "\n",
    "pred = models['l1'].predict(input_test)\n",
    "print(confusion_matrix(target_test, pred))"
   ]
  },
  {
   "cell_type": "code",
   "execution_count": 31,
   "metadata": {
    "scrolled": true
   },
   "outputs": [
    {
     "name": "stdout",
     "output_type": "stream",
     "text": [
      "l1\n",
      "AUROC = 0.9522\n",
      "l2\n",
      "AUROC = 0.9518\n",
      "rf\n",
      "AUROC = 0.9616\n",
      "gb\n",
      "AUROC = 0.9645\n"
     ]
    }
   ],
   "source": [
    "from sklearn.metrics import roc_curve, auc\n",
    "\n",
    "# Calculate ROC curve, unpack outputs, and print\n",
    "for key in models.keys():\n",
    "    pred = models[key].predict(input_test)\n",
    "    fpr, tpr, thresholds = roc_curve(target_test, pred)\n",
    "    print(key)\n",
    "    print('AUROC =', round(auc(fpr, tpr), 4))\n",
    "    "
   ]
  },
  {
   "cell_type": "code",
   "execution_count": null,
   "metadata": {},
   "outputs": [],
   "source": []
  }
 ],
 "metadata": {
  "kernelspec": {
   "display_name": "Python 3",
   "language": "python",
   "name": "python3"
  },
  "language_info": {
   "codemirror_mode": {
    "name": "ipython",
    "version": 3
   },
   "file_extension": ".py",
   "mimetype": "text/x-python",
   "name": "python",
   "nbconvert_exporter": "python",
   "pygments_lexer": "ipython3",
   "version": "3.7.4"
  }
 },
 "nbformat": 4,
 "nbformat_minor": 2
}
